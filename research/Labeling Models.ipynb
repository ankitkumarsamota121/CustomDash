{
 "cells": [
  {
   "cell_type": "code",
   "execution_count": 12,
   "metadata": {},
   "outputs": [],
   "source": [
    "import numpy as np\n",
    "import pandas as pd"
   ]
  },
  {
   "cell_type": "code",
   "execution_count": 13,
   "metadata": {},
   "outputs": [],
   "source": [
    "train_df = pd.read_csv('D:\\Events\\VIL Codefest\\secret\\VIL Confidential Information Dataset\\Train_cleaned.csv')\n",
    "test_df = pd.read_csv('D:\\Events\\VIL Codefest\\secret\\VIL Confidential Information Dataset\\Test_cleaned.csv')"
   ]
  },
  {
   "cell_type": "code",
   "execution_count": 10,
   "metadata": {},
   "outputs": [
    {
     "data": {
      "text/plain": [
       " 1    84779\n",
       " 0    21774\n",
       "-1     3288\n",
       " 3     2748\n",
       "Name: Gender, dtype: int64"
      ]
     },
     "execution_count": 10,
     "metadata": {},
     "output_type": "execute_result"
    }
   ],
   "source": [
    "train_df['Gender'].value_counts()"
   ]
  },
  {
   "cell_type": "code",
   "execution_count": 15,
   "metadata": {},
   "outputs": [
    {
     "data": {
      "text/plain": [
       "Age                    int64\n",
       "ARPU                   int64\n",
       "Age on Network         int64\n",
       "Brand Identifier       int64\n",
       "Circle Name            int64\n",
       "Connection Type        int64\n",
       "Data Usage             int64\n",
       "Gender                 int64\n",
       "Genre                  int64\n",
       "International Usage    int64\n",
       "Recharge               int64\n",
       "SMS Usage              int64\n",
       "VAS Subscription       int64\n",
       "Voice Usage            int64\n",
       "Web/App                int64\n",
       "DND                    int64\n",
       "dtype: object"
      ]
     },
     "execution_count": 15,
     "metadata": {},
     "output_type": "execute_result"
    }
   ],
   "source": [
    "test_df.dtypes"
   ]
  },
  {
   "cell_type": "code",
   "execution_count": null,
   "metadata": {},
   "outputs": [],
   "source": []
  }
 ],
 "metadata": {
  "kernelspec": {
   "display_name": "customdash",
   "language": "python",
   "name": "customdash"
  },
  "language_info": {
   "codemirror_mode": {
    "name": "ipython",
    "version": 3
   },
   "file_extension": ".py",
   "mimetype": "text/x-python",
   "name": "python",
   "nbconvert_exporter": "python",
   "pygments_lexer": "ipython3",
   "version": "3.7.4"
  }
 },
 "nbformat": 4,
 "nbformat_minor": 2
}
