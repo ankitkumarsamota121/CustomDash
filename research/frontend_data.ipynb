{
 "cells": [
  {
   "cell_type": "code",
   "execution_count": 1,
   "metadata": {},
   "outputs": [],
   "source": [
    "import numpy as np\n",
    "import pandas as pd"
   ]
  },
  {
   "cell_type": "code",
   "execution_count": 3,
   "metadata": {},
   "outputs": [],
   "source": [
    "train_df = pd.read_csv(\"E:\\VIL Confidential Information Dataset\\Train_imputed.csv\")"
   ]
  },
  {
   "cell_type": "code",
   "execution_count": 4,
   "metadata": {},
   "outputs": [],
   "source": [
    "test_df = pd.read_csv(\"E:\\VIL Confidential Information Dataset\\Test_imputed.csv\")"
   ]
  },
  {
   "cell_type": "code",
   "execution_count": 62,
   "metadata": {},
   "outputs": [],
   "source": [
    "cleaned_test_df = pd.read_csv(\"E:\\VIL Codefest\\secret\\VIL Confidential Information Dataset\\Test.csv\")"
   ]
  },
  {
   "cell_type": "code",
   "execution_count": 5,
   "metadata": {},
   "outputs": [
    {
     "data": {
      "text/html": [
       "<div>\n",
       "<style scoped>\n",
       "    .dataframe tbody tr th:only-of-type {\n",
       "        vertical-align: middle;\n",
       "    }\n",
       "\n",
       "    .dataframe tbody tr th {\n",
       "        vertical-align: top;\n",
       "    }\n",
       "\n",
       "    .dataframe thead th {\n",
       "        text-align: right;\n",
       "    }\n",
       "</style>\n",
       "<table border=\"1\" class=\"dataframe\">\n",
       "  <thead>\n",
       "    <tr style=\"text-align: right;\">\n",
       "      <th></th>\n",
       "      <th>Unnamed: 0</th>\n",
       "      <th>Age</th>\n",
       "      <th>ARPU</th>\n",
       "      <th>Age on Network</th>\n",
       "      <th>Brand Identifier</th>\n",
       "      <th>Circle Name</th>\n",
       "      <th>Connection Type</th>\n",
       "      <th>Data Usage</th>\n",
       "      <th>Gender</th>\n",
       "      <th>Genre</th>\n",
       "      <th>International Usage</th>\n",
       "      <th>Recharge</th>\n",
       "      <th>SMS Usage</th>\n",
       "      <th>VAS Subscription</th>\n",
       "      <th>Voice Usage</th>\n",
       "      <th>Web/App</th>\n",
       "      <th>DND</th>\n",
       "    </tr>\n",
       "  </thead>\n",
       "  <tbody>\n",
       "    <tr>\n",
       "      <th>0</th>\n",
       "      <td>0</td>\n",
       "      <td>1</td>\n",
       "      <td>1</td>\n",
       "      <td>2</td>\n",
       "      <td>1</td>\n",
       "      <td>2</td>\n",
       "      <td>1</td>\n",
       "      <td>2</td>\n",
       "      <td>1</td>\n",
       "      <td>2</td>\n",
       "      <td>0</td>\n",
       "      <td>6</td>\n",
       "      <td>6</td>\n",
       "      <td>43</td>\n",
       "      <td>5</td>\n",
       "      <td>1</td>\n",
       "      <td>0</td>\n",
       "    </tr>\n",
       "    <tr>\n",
       "      <th>1</th>\n",
       "      <td>1</td>\n",
       "      <td>4</td>\n",
       "      <td>1</td>\n",
       "      <td>6</td>\n",
       "      <td>1</td>\n",
       "      <td>2</td>\n",
       "      <td>1</td>\n",
       "      <td>6</td>\n",
       "      <td>1</td>\n",
       "      <td>3</td>\n",
       "      <td>0</td>\n",
       "      <td>3</td>\n",
       "      <td>1</td>\n",
       "      <td>87</td>\n",
       "      <td>7</td>\n",
       "      <td>1</td>\n",
       "      <td>0</td>\n",
       "    </tr>\n",
       "    <tr>\n",
       "      <th>2</th>\n",
       "      <td>2</td>\n",
       "      <td>2</td>\n",
       "      <td>2</td>\n",
       "      <td>7</td>\n",
       "      <td>0</td>\n",
       "      <td>0</td>\n",
       "      <td>1</td>\n",
       "      <td>2</td>\n",
       "      <td>1</td>\n",
       "      <td>3</td>\n",
       "      <td>0</td>\n",
       "      <td>2</td>\n",
       "      <td>1</td>\n",
       "      <td>87</td>\n",
       "      <td>8</td>\n",
       "      <td>1</td>\n",
       "      <td>1</td>\n",
       "    </tr>\n",
       "    <tr>\n",
       "      <th>3</th>\n",
       "      <td>3</td>\n",
       "      <td>9</td>\n",
       "      <td>7</td>\n",
       "      <td>1</td>\n",
       "      <td>1</td>\n",
       "      <td>3</td>\n",
       "      <td>1</td>\n",
       "      <td>7</td>\n",
       "      <td>0</td>\n",
       "      <td>2</td>\n",
       "      <td>1</td>\n",
       "      <td>4</td>\n",
       "      <td>1</td>\n",
       "      <td>87</td>\n",
       "      <td>5</td>\n",
       "      <td>1</td>\n",
       "      <td>1</td>\n",
       "    </tr>\n",
       "    <tr>\n",
       "      <th>4</th>\n",
       "      <td>4</td>\n",
       "      <td>9</td>\n",
       "      <td>4</td>\n",
       "      <td>3</td>\n",
       "      <td>1</td>\n",
       "      <td>2</td>\n",
       "      <td>0</td>\n",
       "      <td>2</td>\n",
       "      <td>3</td>\n",
       "      <td>3</td>\n",
       "      <td>0</td>\n",
       "      <td>3</td>\n",
       "      <td>3</td>\n",
       "      <td>43</td>\n",
       "      <td>5</td>\n",
       "      <td>1</td>\n",
       "      <td>0</td>\n",
       "    </tr>\n",
       "  </tbody>\n",
       "</table>\n",
       "</div>"
      ],
      "text/plain": [
       "   Unnamed: 0  Age  ARPU  Age on Network  Brand Identifier  Circle Name  \\\n",
       "0           0    1     1               2                 1            2   \n",
       "1           1    4     1               6                 1            2   \n",
       "2           2    2     2               7                 0            0   \n",
       "3           3    9     7               1                 1            3   \n",
       "4           4    9     4               3                 1            2   \n",
       "\n",
       "   Connection Type  Data Usage  Gender  Genre  International Usage  Recharge  \\\n",
       "0                1           2       1      2                    0         6   \n",
       "1                1           6       1      3                    0         3   \n",
       "2                1           2       1      3                    0         2   \n",
       "3                1           7       0      2                    1         4   \n",
       "4                0           2       3      3                    0         3   \n",
       "\n",
       "   SMS Usage  VAS Subscription  Voice Usage  Web/App  DND  \n",
       "0          6                43            5        1    0  \n",
       "1          1                87            7        1    0  \n",
       "2          1                87            8        1    1  \n",
       "3          1                87            5        1    1  \n",
       "4          3                43            5        1    0  "
      ]
     },
     "execution_count": 5,
     "metadata": {},
     "output_type": "execute_result"
    }
   ],
   "source": [
    "train_df.head()"
   ]
  },
  {
   "cell_type": "code",
   "execution_count": 6,
   "metadata": {},
   "outputs": [],
   "source": [
    "internet_new = {\n",
    "    0: 0,\n",
    "    6: 1,\n",
    "    1: 2,\n",
    "    3: 3, \n",
    "    4: 4,\n",
    "    5: 5,\n",
    "    2: 6,\n",
    "    7: 7    \n",
    "}\n",
    "\n",
    "sms_new = {\n",
    "    0: 0,\n",
    "    1: 1,\n",
    "    3: 2,\n",
    "    6: 3, \n",
    "    2: 4,\n",
    "    4: 5,\n",
    "    5: 6,\n",
    "    7: 7    \n",
    "}\n",
    "\n",
    "voice_new = {\n",
    "    0: 0,\n",
    "    1: 1,\n",
    "    6: 2,\n",
    "    2: 3,\n",
    "    3: 4,\n",
    "    4: 5,\n",
    "    5: 6,\n",
    "    7: 7,\n",
    "    8: 8\n",
    "}\n",
    "\n",
    "arpu_new = {\n",
    "    0: 0,\n",
    "    1: 1,\n",
    "    6: 2,\n",
    "    2: 3,\n",
    "    3: 4,\n",
    "    4: 5,\n",
    "    5: 6,\n",
    "    7: 7\n",
    "}\n",
    "\n",
    "recharge_new = {\n",
    "    0: 0,\n",
    "    1: 1,\n",
    "    8: 2,\n",
    "    2: 3,\n",
    "    3: 4,\n",
    "    4: 5,\n",
    "    5: 6,\n",
    "    6: 7,\n",
    "    7: 8,\n",
    "    9: 9,\n",
    "    10: 10\n",
    "}\n",
    "\n",
    "new_age = {\n",
    "    0: '18-23',\n",
    "    1: '24-28',\n",
    "    2: '29-33',\n",
    "    3: '34-38',\n",
    "    4: '39-43',\n",
    "    5: '44-48',\n",
    "    6: '49-53',\n",
    "    7: '54-58',\n",
    "    8: '<18',\n",
    "    9: '>58'\n",
    "}"
   ]
  },
  {
   "cell_type": "markdown",
   "metadata": {},
   "source": [
    "# Frontend Data"
   ]
  },
  {
   "cell_type": "code",
   "execution_count": 7,
   "metadata": {},
   "outputs": [],
   "source": [
    "internet_usage = test_df[['Data Usage']].replace(internet_new)\n",
    "sms_usage = test_df[['SMS Usage']].replace(sms_new)\n",
    "voice_usage = test_df[['Voice Usage']].replace(voice_new)\n",
    "arpu = test_df[['ARPU']].replace(arpu_new)\n",
    "recharge = test_df[['ARPU']].replace(recharge_new)"
   ]
  },
  {
   "cell_type": "code",
   "execution_count": 8,
   "metadata": {},
   "outputs": [],
   "source": [
    "from sklearn.preprocessing import MinMaxScaler"
   ]
  },
  {
   "cell_type": "code",
   "execution_count": 9,
   "metadata": {},
   "outputs": [],
   "source": [
    "def scaling(arr):\n",
    "    scaler = MinMaxScaler(feature_range=(0, 1000))\n",
    "    arr = scaler.fit_transform(arr)\n",
    "    arr = pd.DataFrame(arr).apply(lambda x: round(x)).astype('int')\n",
    "    arr = np.asanyarray(arr)\n",
    "    return arr"
   ]
  },
  {
   "cell_type": "code",
   "execution_count": 10,
   "metadata": {},
   "outputs": [],
   "source": [
    "internet_usage = np.ravel(scaling(internet_usage))\n",
    "sms_usage = np.ravel(scaling(sms_usage))\n",
    "voice_usage = np.ravel(scaling(voice_usage))\n",
    "arpu = np.ravel(scaling(arpu))\n",
    "recharge = np.ravel(scaling(recharge))\n",
    "age = np.array(test_df['Age'].replace(new_age))\n",
    "location = np.array(test_df['Circle Name'].replace({0: 'Delhi', 1: 'Kerala', 2: 'Kolkata', 3: 'Mumbai'}))\n",
    "gender = np.array(test_df['Gender'].replace({0:'F', 1:'M', 2:'O'}))"
   ]
  },
  {
   "cell_type": "code",
   "execution_count": 11,
   "metadata": {},
   "outputs": [
    {
     "data": {
      "text/plain": [
       "array(['>58', '39-43', '39-43', ..., '29-33', '49-53', '24-28'],\n",
       "      dtype=object)"
      ]
     },
     "execution_count": 11,
     "metadata": {},
     "output_type": "execute_result"
    }
   ],
   "source": [
    "age"
   ]
  },
  {
   "cell_type": "code",
   "execution_count": 12,
   "metadata": {},
   "outputs": [],
   "source": [
    "frontend_dict = {\n",
    "    'Internet Usage': internet_usage,\n",
    "    'SMS Usage': sms_usage,\n",
    "    'Voice Usage': voice_usage,\n",
    "    'ARPU': arpu,\n",
    "    'Recharge': recharge,\n",
    "    'Age': age,\n",
    "    'Location': location,\n",
    "    'Gender': gender\n",
    "}"
   ]
  },
  {
   "cell_type": "code",
   "execution_count": 13,
   "metadata": {},
   "outputs": [
    {
     "name": "stdout",
     "output_type": "stream",
     "text": [
      "48242\n",
      "48242\n",
      "48242\n",
      "48242\n",
      "48242\n",
      "48242\n",
      "48242\n",
      "48242\n"
     ]
    }
   ],
   "source": [
    "for k, v in frontend_dict.items():\n",
    "    print(len(v))"
   ]
  },
  {
   "cell_type": "code",
   "execution_count": 14,
   "metadata": {},
   "outputs": [],
   "source": [
    "frontend_df = pd.DataFrame.from_dict(frontend_dict)\n",
    "frontend_df['Churn'] = 0\n",
    "frontend_df['Customer Segment'] = 0"
   ]
  },
  {
   "cell_type": "markdown",
   "metadata": {},
   "source": [
    "# Churn Data"
   ]
  },
  {
   "cell_type": "code",
   "execution_count": 15,
   "metadata": {},
   "outputs": [],
   "source": [
    "from random import *"
   ]
  },
  {
   "cell_type": "code",
   "execution_count": 16,
   "metadata": {},
   "outputs": [],
   "source": [
    "churn = []\n",
    "for i in range(frontend_df.shape[0]):\n",
    "    val1 = (frontend_df.iloc[i]['Internet Usage'])\n",
    "    val2 = (frontend_df.iloc[i]['SMS Usage'])\n",
    "    val3 = (frontend_df.iloc[i]['Voice Usage'])\n",
    "    val4 = (frontend_df.iloc[i]['ARPU'])\n",
    "    values = [val1, val2, val3, val4]\n",
    "    count = 0\n",
    "    for val in values:\n",
    "        if val<500:\n",
    "            count += 1\n",
    "    if count == 4:\n",
    "        churn.append(randint(80, 100))\n",
    "    elif count == 3:\n",
    "        churn.append(randint(60, 80))\n",
    "    elif count == 2:\n",
    "        churn.append(randint(40, 60))\n",
    "    elif count == 1:\n",
    "        churn.append(randint(20, 40))\n",
    "    else:\n",
    "        churn.append(randint(0, 20))"
   ]
  },
  {
   "cell_type": "code",
   "execution_count": 17,
   "metadata": {},
   "outputs": [],
   "source": [
    "frontend_df['Churn'] = churn"
   ]
  },
  {
   "cell_type": "code",
   "execution_count": 18,
   "metadata": {},
   "outputs": [
    {
     "data": {
      "text/plain": [
       "40    1501\n",
       "20    1045\n",
       "60    1007\n",
       "22     957\n",
       "26     934\n",
       "      ... \n",
       "5      122\n",
       "7      120\n",
       "10     120\n",
       "3      115\n",
       "17     113\n",
       "Name: Churn, Length: 101, dtype: int64"
      ]
     },
     "execution_count": 18,
     "metadata": {},
     "output_type": "execute_result"
    }
   ],
   "source": [
    "frontend_df['Churn'].value_counts()"
   ]
  },
  {
   "cell_type": "code",
   "execution_count": 19,
   "metadata": {},
   "outputs": [
    {
     "data": {
      "text/html": [
       "<div>\n",
       "<style scoped>\n",
       "    .dataframe tbody tr th:only-of-type {\n",
       "        vertical-align: middle;\n",
       "    }\n",
       "\n",
       "    .dataframe tbody tr th {\n",
       "        vertical-align: top;\n",
       "    }\n",
       "\n",
       "    .dataframe thead th {\n",
       "        text-align: right;\n",
       "    }\n",
       "</style>\n",
       "<table border=\"1\" class=\"dataframe\">\n",
       "  <thead>\n",
       "    <tr style=\"text-align: right;\">\n",
       "      <th></th>\n",
       "      <th>Internet Usage</th>\n",
       "      <th>SMS Usage</th>\n",
       "      <th>Voice Usage</th>\n",
       "      <th>ARPU</th>\n",
       "      <th>Recharge</th>\n",
       "      <th>Age</th>\n",
       "      <th>Location</th>\n",
       "      <th>Gender</th>\n",
       "      <th>Churn</th>\n",
       "      <th>Customer Segment</th>\n",
       "    </tr>\n",
       "  </thead>\n",
       "  <tbody>\n",
       "    <tr>\n",
       "      <th>0</th>\n",
       "      <td>143</td>\n",
       "      <td>143</td>\n",
       "      <td>125</td>\n",
       "      <td>143</td>\n",
       "      <td>125</td>\n",
       "      <td>&gt;58</td>\n",
       "      <td>Kolkata</td>\n",
       "      <td>M</td>\n",
       "      <td>85</td>\n",
       "      <td>0</td>\n",
       "    </tr>\n",
       "    <tr>\n",
       "      <th>1</th>\n",
       "      <td>857</td>\n",
       "      <td>143</td>\n",
       "      <td>375</td>\n",
       "      <td>429</td>\n",
       "      <td>375</td>\n",
       "      <td>39-43</td>\n",
       "      <td>Kolkata</td>\n",
       "      <td>F</td>\n",
       "      <td>76</td>\n",
       "      <td>0</td>\n",
       "    </tr>\n",
       "    <tr>\n",
       "      <th>2</th>\n",
       "      <td>714</td>\n",
       "      <td>143</td>\n",
       "      <td>1000</td>\n",
       "      <td>857</td>\n",
       "      <td>750</td>\n",
       "      <td>39-43</td>\n",
       "      <td>Kerala</td>\n",
       "      <td>M</td>\n",
       "      <td>22</td>\n",
       "      <td>0</td>\n",
       "    </tr>\n",
       "    <tr>\n",
       "      <th>3</th>\n",
       "      <td>429</td>\n",
       "      <td>0</td>\n",
       "      <td>375</td>\n",
       "      <td>1000</td>\n",
       "      <td>1000</td>\n",
       "      <td>39-43</td>\n",
       "      <td>Kerala</td>\n",
       "      <td>M</td>\n",
       "      <td>71</td>\n",
       "      <td>0</td>\n",
       "    </tr>\n",
       "    <tr>\n",
       "      <th>4</th>\n",
       "      <td>857</td>\n",
       "      <td>143</td>\n",
       "      <td>1000</td>\n",
       "      <td>1000</td>\n",
       "      <td>1000</td>\n",
       "      <td>&gt;58</td>\n",
       "      <td>Kerala</td>\n",
       "      <td>M</td>\n",
       "      <td>35</td>\n",
       "      <td>0</td>\n",
       "    </tr>\n",
       "  </tbody>\n",
       "</table>\n",
       "</div>"
      ],
      "text/plain": [
       "   Internet Usage  SMS Usage  Voice Usage  ARPU  Recharge    Age Location  \\\n",
       "0             143        143          125   143       125    >58  Kolkata   \n",
       "1             857        143          375   429       375  39-43  Kolkata   \n",
       "2             714        143         1000   857       750  39-43   Kerala   \n",
       "3             429          0          375  1000      1000  39-43   Kerala   \n",
       "4             857        143         1000  1000      1000    >58   Kerala   \n",
       "\n",
       "  Gender  Churn  Customer Segment  \n",
       "0      M     85                 0  \n",
       "1      F     76                 0  \n",
       "2      M     22                 0  \n",
       "3      M     71                 0  \n",
       "4      M     35                 0  "
      ]
     },
     "execution_count": 19,
     "metadata": {},
     "output_type": "execute_result"
    }
   ],
   "source": [
    "frontend_df.head()"
   ]
  },
  {
   "cell_type": "code",
   "execution_count": 20,
   "metadata": {},
   "outputs": [],
   "source": [
    "frontend_df.to_csv(r\"E:\\VIL Confidential Information Dataset\\frontend.csv\", index=False)"
   ]
  },
  {
   "cell_type": "code",
   "execution_count": null,
   "metadata": {},
   "outputs": [],
   "source": []
  }
 ],
 "metadata": {
  "kernelspec": {
   "display_name": "Python 3",
   "language": "python",
   "name": "python3"
  },
  "language_info": {
   "codemirror_mode": {
    "name": "ipython",
    "version": 3
   },
   "file_extension": ".py",
   "mimetype": "text/x-python",
   "name": "python",
   "nbconvert_exporter": "python",
   "pygments_lexer": "ipython3",
   "version": "3.7.4"
  }
 },
 "nbformat": 4,
 "nbformat_minor": 4
}
