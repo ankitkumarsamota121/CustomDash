{
 "cells": [
  {
   "cell_type": "code",
   "execution_count": 276,
   "metadata": {},
   "outputs": [],
   "source": [
    "import numpy as np\n",
    "import pandas as pd\n",
    "import random"
   ]
  },
  {
   "cell_type": "code",
   "execution_count": 277,
   "metadata": {
    "scrolled": true
   },
   "outputs": [],
   "source": [
    "sample_data = pd.read_excel(\"./data/VIL Internal Reference data33f215b (1).xlsx\").transpose()"
   ]
  },
  {
   "cell_type": "code",
   "execution_count": 278,
   "metadata": {},
   "outputs": [
    {
     "data": {
      "text/html": [
       "<div>\n",
       "<style scoped>\n",
       "    .dataframe tbody tr th:only-of-type {\n",
       "        vertical-align: middle;\n",
       "    }\n",
       "\n",
       "    .dataframe tbody tr th {\n",
       "        vertical-align: top;\n",
       "    }\n",
       "\n",
       "    .dataframe thead th {\n",
       "        text-align: right;\n",
       "    }\n",
       "</style>\n",
       "<table border=\"1\" class=\"dataframe\">\n",
       "  <thead>\n",
       "    <tr style=\"text-align: right;\">\n",
       "      <th></th>\n",
       "      <th>0</th>\n",
       "      <th>1</th>\n",
       "      <th>2</th>\n",
       "      <th>3</th>\n",
       "      <th>4</th>\n",
       "      <th>5</th>\n",
       "      <th>6</th>\n",
       "      <th>7</th>\n",
       "      <th>8</th>\n",
       "      <th>9</th>\n",
       "      <th>...</th>\n",
       "      <th>24</th>\n",
       "      <th>25</th>\n",
       "      <th>26</th>\n",
       "      <th>27</th>\n",
       "      <th>28</th>\n",
       "      <th>29</th>\n",
       "      <th>30</th>\n",
       "      <th>31</th>\n",
       "      <th>32</th>\n",
       "      <th>33</th>\n",
       "    </tr>\n",
       "  </thead>\n",
       "  <tbody>\n",
       "    <tr>\n",
       "      <th>Sno</th>\n",
       "      <td>1</td>\n",
       "      <td>2</td>\n",
       "      <td>3</td>\n",
       "      <td>4</td>\n",
       "      <td>5</td>\n",
       "      <td>6</td>\n",
       "      <td>7</td>\n",
       "      <td>8</td>\n",
       "      <td>9</td>\n",
       "      <td>10</td>\n",
       "      <td>...</td>\n",
       "      <td>25</td>\n",
       "      <td>26</td>\n",
       "      <td>27</td>\n",
       "      <td>28</td>\n",
       "      <td>29</td>\n",
       "      <td>30</td>\n",
       "      <td>31</td>\n",
       "      <td>32</td>\n",
       "      <td>33</td>\n",
       "      <td>34</td>\n",
       "    </tr>\n",
       "    <tr>\n",
       "      <th>Customer Engagement Variables</th>\n",
       "      <td>Circle_Name</td>\n",
       "      <td>Age</td>\n",
       "      <td>Gender</td>\n",
       "      <td>Pincode</td>\n",
       "      <td>Age On Network</td>\n",
       "      <td>Connection Type (Prepaid/Postpaid)</td>\n",
       "      <td>Voice Usage (Slab)</td>\n",
       "      <td>Data Usage (Slab)</td>\n",
       "      <td>Sms Usage (Slab)</td>\n",
       "      <td>ARPU</td>\n",
       "      <td>...</td>\n",
       "      <td>Bill Payment Aggregator (Volume)</td>\n",
       "      <td>Bill Payment Aggregator (Partner Name)</td>\n",
       "      <td>Content App Stream</td>\n",
       "      <td>Content App Active User</td>\n",
       "      <td>Content App (Movie/Live TV/Shows)</td>\n",
       "      <td>Content Genre</td>\n",
       "      <td>Content Language</td>\n",
       "      <td>Credit Limit</td>\n",
       "      <td>Category_Dnd_Flag</td>\n",
       "      <td>Brand_Identifier</td>\n",
       "    </tr>\n",
       "    <tr>\n",
       "      <th>Definition</th>\n",
       "      <td>Name of Telecom license Circle</td>\n",
       "      <td>Age Slab</td>\n",
       "      <td>Gender</td>\n",
       "      <td>Pin Code</td>\n",
       "      <td>Customer active since (Slab wise)</td>\n",
       "      <td>Prepaid/Postpaid Connection</td>\n",
       "      <td>Total Voice usage in a  month</td>\n",
       "      <td>Total Data usage in a month</td>\n",
       "      <td>Total Voice usage in a  month</td>\n",
       "      <td>Average Revenue of the  in a month</td>\n",
       "      <td>...</td>\n",
       "      <td>Volume of BP donein a month through wallet,pay...</td>\n",
       "      <td>Category of Payment/Recharge e.g. Wallet , ban...</td>\n",
       "      <td>Streaming mins on Content App in a month</td>\n",
       "      <td>Active user of Content app in a month</td>\n",
       "      <td>Affinity towards type of content seen in a month</td>\n",
       "      <td>Genre of Content preferred in a month</td>\n",
       "      <td>Launguage prefence on content app seen in a month</td>\n",
       "      <td>Monthly Credit Limit of postpaid Subscriber</td>\n",
       "      <td>DND for which service customer has opted</td>\n",
       "      <td>Brand of customer e.g. Idea or Vodafone</td>\n",
       "    </tr>\n",
       "    <tr>\n",
       "      <th>Sample 1</th>\n",
       "      <td>Mumbai</td>\n",
       "      <td>20-25</td>\n",
       "      <td>F</td>\n",
       "      <td>400012</td>\n",
       "      <td>2-4 Months</td>\n",
       "      <td>Prepaid</td>\n",
       "      <td>301-500</td>\n",
       "      <td>7.5GB-10GB</td>\n",
       "      <td>201-500</td>\n",
       "      <td>501-750</td>\n",
       "      <td>...</td>\n",
       "      <td>NaN</td>\n",
       "      <td>NaN</td>\n",
       "      <td>Yes</td>\n",
       "      <td>Yes</td>\n",
       "      <td>Live TV</td>\n",
       "      <td>Action</td>\n",
       "      <td>Hindi</td>\n",
       "      <td>NaN</td>\n",
       "      <td>No</td>\n",
       "      <td>Idea</td>\n",
       "    </tr>\n",
       "    <tr>\n",
       "      <th>Sample2</th>\n",
       "      <td>Delhi</td>\n",
       "      <td>35-40</td>\n",
       "      <td>M</td>\n",
       "      <td>110007</td>\n",
       "      <td>2-4 Months</td>\n",
       "      <td>Postpaid</td>\n",
       "      <td>501-750</td>\n",
       "      <td>10GB-15GB</td>\n",
       "      <td>501-1000</td>\n",
       "      <td>751-1000</td>\n",
       "      <td>...</td>\n",
       "      <td>2</td>\n",
       "      <td>Payment Banking</td>\n",
       "      <td>Yes</td>\n",
       "      <td>Yes</td>\n",
       "      <td>Movies</td>\n",
       "      <td>Comedy</td>\n",
       "      <td>English</td>\n",
       "      <td>2500</td>\n",
       "      <td>Yes</td>\n",
       "      <td>Vodafone</td>\n",
       "    </tr>\n",
       "  </tbody>\n",
       "</table>\n",
       "<p>5 rows × 34 columns</p>\n",
       "</div>"
      ],
      "text/plain": [
       "                                                           0         1   \\\n",
       "Sno                                                         1         2   \n",
       "Customer Engagement Variables                     Circle_Name       Age   \n",
       "Definition                     Name of Telecom license Circle  Age Slab   \n",
       "Sample 1                                               Mumbai     20-25   \n",
       "Sample2                                                 Delhi     35-40   \n",
       "\n",
       "                                   2         3   \\\n",
       "Sno                                 3         4   \n",
       "Customer Engagement Variables  Gender   Pincode   \n",
       "Definition                     Gender  Pin Code   \n",
       "Sample 1                            F    400012   \n",
       "Sample2                             M    110007   \n",
       "\n",
       "                                                              4   \\\n",
       "Sno                                                            5   \n",
       "Customer Engagement Variables                     Age On Network   \n",
       "Definition                     Customer active since (Slab wise)   \n",
       "Sample 1                                              2-4 Months   \n",
       "Sample2                                               2-4 Months   \n",
       "\n",
       "                                                               5   \\\n",
       "Sno                                                             6   \n",
       "Customer Engagement Variables  Connection Type (Prepaid/Postpaid)   \n",
       "Definition                            Prepaid/Postpaid Connection   \n",
       "Sample 1                                                  Prepaid   \n",
       "Sample2                                                  Postpaid   \n",
       "\n",
       "                                                          6   \\\n",
       "Sno                                                        7   \n",
       "Customer Engagement Variables             Voice Usage (Slab)   \n",
       "Definition                     Total Voice usage in a  month   \n",
       "Sample 1                                             301-500   \n",
       "Sample2                                              501-750   \n",
       "\n",
       "                                                        7   \\\n",
       "Sno                                                      8   \n",
       "Customer Engagement Variables            Data Usage (Slab)   \n",
       "Definition                     Total Data usage in a month   \n",
       "Sample 1                                        7.5GB-10GB   \n",
       "Sample2                                          10GB-15GB   \n",
       "\n",
       "                                                          8   \\\n",
       "Sno                                                        9   \n",
       "Customer Engagement Variables               Sms Usage (Slab)   \n",
       "Definition                     Total Voice usage in a  month   \n",
       "Sample 1                                             201-500   \n",
       "Sample2                                             501-1000   \n",
       "\n",
       "                                                                9   ...  \\\n",
       "Sno                                                             10  ...   \n",
       "Customer Engagement Variables                                 ARPU  ...   \n",
       "Definition                      Average Revenue of the  in a month  ...   \n",
       "Sample 1                                                   501-750  ...   \n",
       "Sample2                                                   751-1000  ...   \n",
       "\n",
       "                                                                              24  \\\n",
       "Sno                                                                           25   \n",
       "Customer Engagement Variables                   Bill Payment Aggregator (Volume)   \n",
       "Definition                     Volume of BP donein a month through wallet,pay...   \n",
       "Sample 1                                                                     NaN   \n",
       "Sample2                                                                        2   \n",
       "\n",
       "                                                                              25  \\\n",
       "Sno                                                                           26   \n",
       "Customer Engagement Variables             Bill Payment Aggregator (Partner Name)   \n",
       "Definition                     Category of Payment/Recharge e.g. Wallet , ban...   \n",
       "Sample 1                                                                     NaN   \n",
       "Sample2                                                          Payment Banking   \n",
       "\n",
       "                                                                     26  \\\n",
       "Sno                                                                  27   \n",
       "Customer Engagement Variables                        Content App Stream   \n",
       "Definition                     Streaming mins on Content App in a month   \n",
       "Sample 1                                                            Yes   \n",
       "Sample2                                                             Yes   \n",
       "\n",
       "                                                                  27  \\\n",
       "Sno                                                               28   \n",
       "Customer Engagement Variables                Content App Active User   \n",
       "Definition                     Active user of Content app in a month   \n",
       "Sample 1                                                         Yes   \n",
       "Sample2                                                          Yes   \n",
       "\n",
       "                                                                             28  \\\n",
       "Sno                                                                          29   \n",
       "Customer Engagement Variables                 Content App (Movie/Live TV/Shows)   \n",
       "Definition                     Affinity towards type of content seen in a month   \n",
       "Sample 1                                                                Live TV   \n",
       "Sample2                                                                  Movies   \n",
       "\n",
       "                                                                  29  \\\n",
       "Sno                                                               30   \n",
       "Customer Engagement Variables                         Content Genre    \n",
       "Definition                     Genre of Content preferred in a month   \n",
       "Sample 1                                                      Action   \n",
       "Sample2                                                       Comedy   \n",
       "\n",
       "                                                                              30  \\\n",
       "Sno                                                                           31   \n",
       "Customer Engagement Variables                                  Content Language    \n",
       "Definition                     Launguage prefence on content app seen in a month   \n",
       "Sample 1                                                                   Hindi   \n",
       "Sample2                                                                  English   \n",
       "\n",
       "                                                                        31  \\\n",
       "Sno                                                                     32   \n",
       "Customer Engagement Variables                                 Credit Limit   \n",
       "Definition                     Monthly Credit Limit of postpaid Subscriber   \n",
       "Sample 1                                                               NaN   \n",
       "Sample2                                                               2500   \n",
       "\n",
       "                                                                      32  \\\n",
       "Sno                                                                   33   \n",
       "Customer Engagement Variables                          Category_Dnd_Flag   \n",
       "Definition                     DND for which service customer has opted    \n",
       "Sample 1                                                              No   \n",
       "Sample2                                                              Yes   \n",
       "\n",
       "                                                                    33  \n",
       "Sno                                                                 34  \n",
       "Customer Engagement Variables                         Brand_Identifier  \n",
       "Definition                     Brand of customer e.g. Idea or Vodafone  \n",
       "Sample 1                                                          Idea  \n",
       "Sample2                                                       Vodafone  \n",
       "\n",
       "[5 rows x 34 columns]"
      ]
     },
     "execution_count": 278,
     "metadata": {},
     "output_type": "execute_result"
    }
   ],
   "source": [
    "sample_data.head()"
   ]
  },
  {
   "cell_type": "markdown",
   "metadata": {},
   "source": [
    "## Cicle Names and Pincode data"
   ]
  },
  {
   "cell_type": "code",
   "execution_count": 279,
   "metadata": {},
   "outputs": [],
   "source": [
    "circle_pincode_df = pd.read_csv(\"./data/all_india_PO_list_without_APS_offices_ver2_lat_long.csv\")"
   ]
  },
  {
   "cell_type": "code",
   "execution_count": 280,
   "metadata": {},
   "outputs": [
    {
     "data": {
      "text/html": [
       "<div>\n",
       "<style scoped>\n",
       "    .dataframe tbody tr th:only-of-type {\n",
       "        vertical-align: middle;\n",
       "    }\n",
       "\n",
       "    .dataframe tbody tr th {\n",
       "        vertical-align: top;\n",
       "    }\n",
       "\n",
       "    .dataframe thead th {\n",
       "        text-align: right;\n",
       "    }\n",
       "</style>\n",
       "<table border=\"1\" class=\"dataframe\">\n",
       "  <thead>\n",
       "    <tr style=\"text-align: right;\">\n",
       "      <th></th>\n",
       "      <th>officename</th>\n",
       "      <th>pincode</th>\n",
       "      <th>officeType</th>\n",
       "      <th>Deliverystatus</th>\n",
       "      <th>divisionname</th>\n",
       "      <th>regionname</th>\n",
       "      <th>circlename</th>\n",
       "      <th>Taluk</th>\n",
       "      <th>Districtname</th>\n",
       "      <th>statename</th>\n",
       "      <th>Telephone</th>\n",
       "      <th>Related Suboffice</th>\n",
       "      <th>Related Headoffice</th>\n",
       "      <th>longitude</th>\n",
       "      <th>latitude</th>\n",
       "    </tr>\n",
       "  </thead>\n",
       "  <tbody>\n",
       "    <tr>\n",
       "      <th>0</th>\n",
       "      <td>Achalapur B.O</td>\n",
       "      <td>504273</td>\n",
       "      <td>B.O</td>\n",
       "      <td>Delivery</td>\n",
       "      <td>Adilabad</td>\n",
       "      <td>Hyderabad</td>\n",
       "      <td>Andhra Pradesh</td>\n",
       "      <td>Asifabad</td>\n",
       "      <td>Adilabad</td>\n",
       "      <td>TELANGANA</td>\n",
       "      <td>NaN</td>\n",
       "      <td>Rechini S.O</td>\n",
       "      <td>Mancherial H.O</td>\n",
       "      <td>NaN</td>\n",
       "      <td>NaN</td>\n",
       "    </tr>\n",
       "    <tr>\n",
       "      <th>1</th>\n",
       "      <td>Ada B.O</td>\n",
       "      <td>504293</td>\n",
       "      <td>B.O</td>\n",
       "      <td>Delivery</td>\n",
       "      <td>Adilabad</td>\n",
       "      <td>Hyderabad</td>\n",
       "      <td>Andhra Pradesh</td>\n",
       "      <td>Asifabad</td>\n",
       "      <td>Adilabad</td>\n",
       "      <td>TELANGANA</td>\n",
       "      <td>NaN</td>\n",
       "      <td>Asifabad S.O</td>\n",
       "      <td>Mancherial H.O</td>\n",
       "      <td>NaN</td>\n",
       "      <td>NaN</td>\n",
       "    </tr>\n",
       "    <tr>\n",
       "      <th>2</th>\n",
       "      <td>Adegaon B.O</td>\n",
       "      <td>504307</td>\n",
       "      <td>B.O</td>\n",
       "      <td>Delivery</td>\n",
       "      <td>Adilabad</td>\n",
       "      <td>Hyderabad</td>\n",
       "      <td>Andhra Pradesh</td>\n",
       "      <td>Boath</td>\n",
       "      <td>Adilabad</td>\n",
       "      <td>TELANGANA</td>\n",
       "      <td>NaN</td>\n",
       "      <td>Echoda S.O</td>\n",
       "      <td>Adilabad H.O</td>\n",
       "      <td>NaN</td>\n",
       "      <td>NaN</td>\n",
       "    </tr>\n",
       "    <tr>\n",
       "      <th>3</th>\n",
       "      <td>Adilabad Collectorate S.O</td>\n",
       "      <td>504001</td>\n",
       "      <td>S.O</td>\n",
       "      <td>Non-Delivery</td>\n",
       "      <td>Adilabad</td>\n",
       "      <td>Hyderabad</td>\n",
       "      <td>Andhra Pradesh</td>\n",
       "      <td>Adilabad</td>\n",
       "      <td>Adilabad</td>\n",
       "      <td>TELANGANA</td>\n",
       "      <td>08732-226703</td>\n",
       "      <td>NaN</td>\n",
       "      <td>Adilabad H.O</td>\n",
       "      <td>NaN</td>\n",
       "      <td>NaN</td>\n",
       "    </tr>\n",
       "    <tr>\n",
       "      <th>4</th>\n",
       "      <td>Adilabad H.O</td>\n",
       "      <td>504001</td>\n",
       "      <td>H.O</td>\n",
       "      <td>Delivery</td>\n",
       "      <td>Adilabad</td>\n",
       "      <td>Hyderabad</td>\n",
       "      <td>Andhra Pradesh</td>\n",
       "      <td>Adilabad</td>\n",
       "      <td>Adilabad</td>\n",
       "      <td>TELANGANA</td>\n",
       "      <td>08732-226738</td>\n",
       "      <td>NaN</td>\n",
       "      <td>NaN</td>\n",
       "      <td>NaN</td>\n",
       "      <td>NaN</td>\n",
       "    </tr>\n",
       "  </tbody>\n",
       "</table>\n",
       "</div>"
      ],
      "text/plain": [
       "                  officename  pincode officeType Deliverystatus divisionname  \\\n",
       "0              Achalapur B.O   504273        B.O       Delivery     Adilabad   \n",
       "1                    Ada B.O   504293        B.O       Delivery     Adilabad   \n",
       "2                Adegaon B.O   504307        B.O       Delivery     Adilabad   \n",
       "3  Adilabad Collectorate S.O   504001        S.O   Non-Delivery     Adilabad   \n",
       "4               Adilabad H.O   504001        H.O       Delivery     Adilabad   \n",
       "\n",
       "  regionname      circlename     Taluk Districtname  statename     Telephone  \\\n",
       "0  Hyderabad  Andhra Pradesh  Asifabad     Adilabad  TELANGANA           NaN   \n",
       "1  Hyderabad  Andhra Pradesh  Asifabad     Adilabad  TELANGANA           NaN   \n",
       "2  Hyderabad  Andhra Pradesh     Boath     Adilabad  TELANGANA           NaN   \n",
       "3  Hyderabad  Andhra Pradesh  Adilabad     Adilabad  TELANGANA  08732-226703   \n",
       "4  Hyderabad  Andhra Pradesh  Adilabad     Adilabad  TELANGANA  08732-226738   \n",
       "\n",
       "  Related Suboffice Related Headoffice  longitude  latitude  \n",
       "0       Rechini S.O     Mancherial H.O        NaN       NaN  \n",
       "1      Asifabad S.O     Mancherial H.O        NaN       NaN  \n",
       "2        Echoda S.O       Adilabad H.O        NaN       NaN  \n",
       "3               NaN       Adilabad H.O        NaN       NaN  \n",
       "4               NaN                NaN        NaN       NaN  "
      ]
     },
     "execution_count": 280,
     "metadata": {},
     "output_type": "execute_result"
    }
   ],
   "source": [
    "circle_pincode_df.head()"
   ]
  },
  {
   "cell_type": "markdown",
   "metadata": {},
   "source": [
    "#### Column Names"
   ]
  },
  {
   "cell_type": "code",
   "execution_count": 281,
   "metadata": {},
   "outputs": [],
   "source": [
    "column_names = list(sample_data.loc['Customer Engagement Variables'])"
   ]
  },
  {
   "cell_type": "code",
   "execution_count": 282,
   "metadata": {},
   "outputs": [],
   "source": [
    "column_names.insert(0, \"Customer ID\")"
   ]
  },
  {
   "cell_type": "code",
   "execution_count": 283,
   "metadata": {},
   "outputs": [
    {
     "data": {
      "text/plain": [
       "['Customer ID',\n",
       " 'Circle_Name',\n",
       " 'Age',\n",
       " 'Gender',\n",
       " 'Pincode',\n",
       " 'Age On Network',\n",
       " 'Connection Type (Prepaid/Postpaid)',\n",
       " 'Voice Usage (Slab)',\n",
       " 'Data Usage (Slab)',\n",
       " 'Sms Usage (Slab)',\n",
       " 'ARPU',\n",
       " 'ISD Usage',\n",
       " 'IR Usage',\n",
       " 'Amazone Prime User ',\n",
       " 'Netflix User',\n",
       " 'Sender Id ',\n",
       " 'Vas Subscription',\n",
       " 'VIL App Web (Login/Registration)',\n",
       " 'Active User (App / Web)',\n",
       " 'Recharge Own Asset ',\n",
       " 'Recharge Aggregator (Value)',\n",
       " 'Recharge Aggregator (Volume)',\n",
       " 'Recharge Aggregator (Partner Category)',\n",
       " 'Bill Payment Own Asset ',\n",
       " 'Bill Payment Aggregator (Value)',\n",
       " 'Bill Payment Aggregator (Volume)',\n",
       " 'Bill Payment Aggregator (Partner Name)',\n",
       " 'Content App Stream',\n",
       " 'Content App Active User',\n",
       " 'Content App (Movie/Live TV/Shows)',\n",
       " 'Content Genre ',\n",
       " 'Content Language ',\n",
       " 'Credit Limit',\n",
       " 'Category_Dnd_Flag',\n",
       " 'Brand_Identifier']"
      ]
     },
     "execution_count": 283,
     "metadata": {},
     "output_type": "execute_result"
    }
   ],
   "source": [
    "column_names"
   ]
  },
  {
   "cell_type": "markdown",
   "metadata": {},
   "source": [
    "### Function to get a list of random values"
   ]
  },
  {
   "cell_type": "code",
   "execution_count": 284,
   "metadata": {},
   "outputs": [],
   "source": [
    "def get_random_data(entity_categories):\n",
    "    entity_list = []\n",
    "    for _ in range(10000):\n",
    "        r = random.randint(0, (len(entity_categories)-1))\n",
    "        entity_list.append(entity_categories[r])\n",
    "    return entity_list"
   ]
  },
  {
   "cell_type": "markdown",
   "metadata": {},
   "source": [
    "#### 01 - Customer ID"
   ]
  },
  {
   "cell_type": "code",
   "execution_count": 285,
   "metadata": {},
   "outputs": [],
   "source": [
    "customer_id = list(range(10000))"
   ]
  },
  {
   "cell_type": "markdown",
   "metadata": {},
   "source": [
    "#### 02 - Circle Names & 05 - Pincode"
   ]
  },
  {
   "cell_type": "code",
   "execution_count": 286,
   "metadata": {},
   "outputs": [],
   "source": [
    "circle_names = []\n",
    "pincodes = []"
   ]
  },
  {
   "cell_type": "code",
   "execution_count": 287,
   "metadata": {},
   "outputs": [],
   "source": [
    "for i in range(10000):\n",
    "    r = random.randint(0, 154798)\n",
    "    circle_names.append(circle_pincode_df.iloc[r]['Taluk'])\n",
    "    pincodes.append(circle_pincode_df.iloc[r]['pincode'])"
   ]
  },
  {
   "cell_type": "markdown",
   "metadata": {},
   "source": [
    "#### 03 - Age"
   ]
  },
  {
   "cell_type": "code",
   "execution_count": 288,
   "metadata": {},
   "outputs": [],
   "source": [
    "age_categories = ['20-25', '25-30', '30-35', '35-40', '40-45', '45-50', '50-55', '55-60', '60-65', '65-70']"
   ]
  },
  {
   "cell_type": "code",
   "execution_count": 289,
   "metadata": {},
   "outputs": [],
   "source": [
    "age = get_random_data(age_categories)"
   ]
  },
  {
   "cell_type": "markdown",
   "metadata": {},
   "source": [
    "#### 04 - Gender"
   ]
  },
  {
   "cell_type": "code",
   "execution_count": 290,
   "metadata": {},
   "outputs": [],
   "source": [
    "gender_categories = ['M', 'F']"
   ]
  },
  {
   "cell_type": "code",
   "execution_count": 291,
   "metadata": {},
   "outputs": [],
   "source": [
    "gender = get_random_data(gender_categories)"
   ]
  },
  {
   "cell_type": "code",
   "execution_count": 292,
   "metadata": {},
   "outputs": [
    {
     "data": {
      "text/plain": [
       "4970"
      ]
     },
     "execution_count": 292,
     "metadata": {},
     "output_type": "execute_result"
    }
   ],
   "source": [
    "count = 0\n",
    "for g in gender:\n",
    "    if g == \"F\":\n",
    "        count+=1\n",
    "count"
   ]
  },
  {
   "cell_type": "markdown",
   "metadata": {},
   "source": [
    "#### 06 - Age On Network"
   ]
  },
  {
   "cell_type": "code",
   "execution_count": 293,
   "metadata": {},
   "outputs": [],
   "source": [
    "age_on_network_slabs = ['0-2 Months', '2-4 Months', '4-6 Months', '6-8 Months', '8-10 Months', '10-12 Months',\n",
    "                        '12-14 Months', '14-16 Months', '16-18 Months', '18-20 Months', '20-22 Months', '22-24 Months']"
   ]
  },
  {
   "cell_type": "code",
   "execution_count": 294,
   "metadata": {},
   "outputs": [],
   "source": [
    "age_on_network = get_random_data(age_on_network_slabs)"
   ]
  },
  {
   "cell_type": "markdown",
   "metadata": {},
   "source": [
    "#### 07 - Connection Type"
   ]
  },
  {
   "cell_type": "code",
   "execution_count": 295,
   "metadata": {},
   "outputs": [],
   "source": [
    "connection_type_categories = ['Prepaid', 'Postpaid']"
   ]
  },
  {
   "cell_type": "code",
   "execution_count": 296,
   "metadata": {},
   "outputs": [],
   "source": [
    "connection_type = get_random_data(connection_type_categories)"
   ]
  },
  {
   "cell_type": "markdown",
   "metadata": {},
   "source": [
    "#### 08 - Voice Usage"
   ]
  },
  {
   "cell_type": "code",
   "execution_count": 297,
   "metadata": {},
   "outputs": [],
   "source": [
    "voice_usage_slabs = ['1-50', '51-100', '101-150', '151-200', '201-250', '250-300', '301-500', '501-750', '751-1000', '1001-1500', '1501-2000']"
   ]
  },
  {
   "cell_type": "code",
   "execution_count": 298,
   "metadata": {},
   "outputs": [],
   "source": [
    "voice_usage = get_random_data(voice_usage_slabs)"
   ]
  },
  {
   "cell_type": "markdown",
   "metadata": {},
   "source": [
    "#### 09 - Data Usage"
   ]
  },
  {
   "cell_type": "code",
   "execution_count": 299,
   "metadata": {},
   "outputs": [],
   "source": [
    "data_usage_slabs = ['0GB-0.5GB', '0.5GB-1GB', '1GB-1.5GB', '1.5GB-2GB', '2GB-2.5GB', '2.5GB-5GB',\n",
    "                    '5GB-7.5GB', '7.5GB-10GB', '10GB-15GB', '>15GB']"
   ]
  },
  {
   "cell_type": "code",
   "execution_count": 300,
   "metadata": {},
   "outputs": [],
   "source": [
    "data_usage = get_random_data(data_usage_slabs)"
   ]
  },
  {
   "cell_type": "markdown",
   "metadata": {},
   "source": [
    "#### 10 - SMS Usage"
   ]
  },
  {
   "cell_type": "code",
   "execution_count": 301,
   "metadata": {},
   "outputs": [],
   "source": [
    "sms_usage_slabs = ['1-50', '51-100', '101-150', '151-200', '201-250', '250-300', '301-500', '501-750', '751-1000', '>1000']"
   ]
  },
  {
   "cell_type": "code",
   "execution_count": 302,
   "metadata": {},
   "outputs": [],
   "source": [
    "sms_usage = get_random_data(sms_usage_slabs)"
   ]
  },
  {
   "cell_type": "markdown",
   "metadata": {},
   "source": [
    "#### 11 - ARPU"
   ]
  },
  {
   "cell_type": "code",
   "execution_count": 303,
   "metadata": {},
   "outputs": [],
   "source": [
    "average_revenue_slabs = ['1-50', '51-100', '101-150', '151-200', '201-250', '250-300', '301-500', '501-750', '751-1000', '>1000']"
   ]
  },
  {
   "cell_type": "code",
   "execution_count": 304,
   "metadata": {},
   "outputs": [],
   "source": [
    "arpu = get_random_data(average_revenue_slabs)"
   ]
  },
  {
   "cell_type": "markdown",
   "metadata": {},
   "source": [
    "#### 12 - ISD Usage"
   ]
  },
  {
   "cell_type": "code",
   "execution_count": 305,
   "metadata": {},
   "outputs": [],
   "source": [
    "isd_usage_categories = ['Yes', 'No']"
   ]
  },
  {
   "cell_type": "code",
   "execution_count": 306,
   "metadata": {},
   "outputs": [],
   "source": [
    "isd_usage = get_random_data(isd_usage_categories)"
   ]
  },
  {
   "cell_type": "markdown",
   "metadata": {},
   "source": [
    "#### 13 - IR Usage"
   ]
  },
  {
   "cell_type": "code",
   "execution_count": 307,
   "metadata": {},
   "outputs": [],
   "source": [
    "ir_usage_categories = ['Yes', 'No']"
   ]
  },
  {
   "cell_type": "code",
   "execution_count": 308,
   "metadata": {},
   "outputs": [],
   "source": [
    "ir_usage = get_random_data(ir_usage_categories)"
   ]
  },
  {
   "cell_type": "markdown",
   "metadata": {},
   "source": [
    "#### 14 - Amazon Prime"
   ]
  },
  {
   "cell_type": "code",
   "execution_count": 309,
   "metadata": {},
   "outputs": [],
   "source": [
    "amazon_prime_categories = ['Yes', 'No']"
   ]
  },
  {
   "cell_type": "code",
   "execution_count": 310,
   "metadata": {},
   "outputs": [],
   "source": [
    "amazon_prime = get_random_data(amazon_prime_categories)"
   ]
  },
  {
   "cell_type": "markdown",
   "metadata": {},
   "source": [
    "#### 15 - Netflix"
   ]
  },
  {
   "cell_type": "code",
   "execution_count": 311,
   "metadata": {},
   "outputs": [],
   "source": [
    "netflix_categories = ['Yes', 'No']"
   ]
  },
  {
   "cell_type": "code",
   "execution_count": 312,
   "metadata": {},
   "outputs": [],
   "source": [
    "netflix = get_random_data(netflix_categories)"
   ]
  },
  {
   "cell_type": "markdown",
   "metadata": {},
   "source": [
    "#### 16 - Sender ID"
   ]
  },
  {
   "cell_type": "code",
   "execution_count": 313,
   "metadata": {},
   "outputs": [],
   "source": [
    "sender_id_categories = ['Healthcare', 'Entertainment', 'Banking Services', 'Food', 'Shopping', 'Work', 'Lifestyle', 'Travel', '']"
   ]
  },
  {
   "cell_type": "code",
   "execution_count": 314,
   "metadata": {},
   "outputs": [],
   "source": [
    "sender_id = get_random_data(sender_id_categories)"
   ]
  },
  {
   "cell_type": "markdown",
   "metadata": {},
   "source": [
    "#### 17 - Value Added Services"
   ]
  },
  {
   "cell_type": "code",
   "execution_count": 315,
   "metadata": {},
   "outputs": [],
   "source": [
    "vas_subscription_categories = ['Yes', 'No']"
   ]
  },
  {
   "cell_type": "code",
   "execution_count": 316,
   "metadata": {},
   "outputs": [],
   "source": [
    "vas_subscription = get_random_data(vas_subscription_categories)"
   ]
  },
  {
   "cell_type": "markdown",
   "metadata": {},
   "source": [
    "#### 18 - VIL App Web"
   ]
  },
  {
   "cell_type": "code",
   "execution_count": 317,
   "metadata": {},
   "outputs": [],
   "source": [
    "vil_app_web_categories = ['Yes', 'No']"
   ]
  },
  {
   "cell_type": "code",
   "execution_count": 318,
   "metadata": {},
   "outputs": [],
   "source": [
    "vil_app_web = get_random_data(vil_app_web_categories)"
   ]
  },
  {
   "cell_type": "markdown",
   "metadata": {},
   "source": [
    "#### 19 - Active User (Web/App)"
   ]
  },
  {
   "cell_type": "code",
   "execution_count": 319,
   "metadata": {},
   "outputs": [],
   "source": [
    "active_user_categories = ['Yes', 'No']"
   ]
  },
  {
   "cell_type": "code",
   "execution_count": 320,
   "metadata": {},
   "outputs": [],
   "source": [
    "active_user = get_random_data(active_user_categories)"
   ]
  },
  {
   "cell_type": "markdown",
   "metadata": {},
   "source": [
    "#### 20 - Recharge Own Asset"
   ]
  },
  {
   "cell_type": "code",
   "execution_count": 321,
   "metadata": {},
   "outputs": [],
   "source": [
    "recharge_own_asset_categories = ['Yes', 'No']"
   ]
  },
  {
   "cell_type": "code",
   "execution_count": 322,
   "metadata": {},
   "outputs": [],
   "source": [
    "recharge_own_asset = get_random_data(recharge_own_assest_categories)"
   ]
  },
  {
   "cell_type": "markdown",
   "metadata": {},
   "source": [
    "#### 21 - Recharge Aggregator (Value)"
   ]
  },
  {
   "cell_type": "code",
   "execution_count": 323,
   "metadata": {},
   "outputs": [],
   "source": [
    "recharge_aggregator_value_categories = ['1-50', '51-100', '101-150', '151-200', '201-250', '250-300', '301-500', '501-750', '751-1000', '>1000']"
   ]
  },
  {
   "cell_type": "code",
   "execution_count": 324,
   "metadata": {},
   "outputs": [],
   "source": [
    "recharge_aggregator_value = get_random_data(recharge_aggregator_value_categories)"
   ]
  },
  {
   "cell_type": "markdown",
   "metadata": {},
   "source": [
    "#### 22 - Recharge Aggregator (Volume)"
   ]
  },
  {
   "cell_type": "code",
   "execution_count": 325,
   "metadata": {},
   "outputs": [],
   "source": [
    "recharge_aggregator_volume_categories = list(range(10))"
   ]
  },
  {
   "cell_type": "code",
   "execution_count": 326,
   "metadata": {},
   "outputs": [],
   "source": [
    "recharge_aggregator_volume = get_random_data(recharge_aggregator_volume_categories)"
   ]
  },
  {
   "cell_type": "markdown",
   "metadata": {},
   "source": [
    "#### 23 - Recharge Aggregator (Partner Category)"
   ]
  },
  {
   "cell_type": "code",
   "execution_count": 327,
   "metadata": {},
   "outputs": [],
   "source": [
    "recharge_aggregator_partner_categories = ['Payment Banking', 'Wallet']"
   ]
  },
  {
   "cell_type": "code",
   "execution_count": 328,
   "metadata": {},
   "outputs": [],
   "source": [
    "recharge_aggregator_partner_category = get_random_data(recharge_aggregator_partner_categories)"
   ]
  },
  {
   "cell_type": "markdown",
   "metadata": {},
   "source": [
    "#### 24 - Bill Payment Own Asset"
   ]
  },
  {
   "cell_type": "code",
   "execution_count": 329,
   "metadata": {},
   "outputs": [],
   "source": [
    "bill_payment_own_asset_slabs = ['Yes', 'No']"
   ]
  },
  {
   "cell_type": "code",
   "execution_count": 330,
   "metadata": {},
   "outputs": [],
   "source": [
    "bill_payment_own_asset = get_random_data(bill_payment_own_asset_slabs)"
   ]
  },
  {
   "cell_type": "markdown",
   "metadata": {},
   "source": [
    "#### 25 - Bill Payment Aggregator (Value)"
   ]
  },
  {
   "cell_type": "code",
   "execution_count": 331,
   "metadata": {},
   "outputs": [],
   "source": [
    "bill_payment_aggregator_value_slabs = ['1-50', '51-100', '101-150', '151-200', '201-250', '250-300', '301-500', '501-750', '751-1000', '>1000']"
   ]
  },
  {
   "cell_type": "code",
   "execution_count": 332,
   "metadata": {},
   "outputs": [],
   "source": [
    "bill_payment_aggregator_value = get_random_data(bill_payment_aggregator_value_slabs)"
   ]
  },
  {
   "cell_type": "markdown",
   "metadata": {},
   "source": [
    "#### 26 - Bill Payment Aggregator (Volume)"
   ]
  },
  {
   "cell_type": "code",
   "execution_count": 333,
   "metadata": {},
   "outputs": [],
   "source": [
    "bill_payment_aggregator_volume_slabs = list(range(10))"
   ]
  },
  {
   "cell_type": "code",
   "execution_count": 334,
   "metadata": {},
   "outputs": [],
   "source": [
    "bill_payment_aggregator_volume = get_random_data(bill_payment_aggregator_volume_slabs)"
   ]
  },
  {
   "cell_type": "markdown",
   "metadata": {},
   "source": [
    "#### 27 - Bill Payment Aggregator (Partner Name)"
   ]
  },
  {
   "cell_type": "code",
   "execution_count": 335,
   "metadata": {},
   "outputs": [],
   "source": [
    "bill_payment_aggregator_partner_name_slabs = ['Payment Banking', 'Wallet']"
   ]
  },
  {
   "cell_type": "code",
   "execution_count": 336,
   "metadata": {},
   "outputs": [],
   "source": [
    "bill_payment_aggregator_partner_name = get_random_data(bill_payment_aggregator_partner_name_slabs)"
   ]
  },
  {
   "cell_type": "markdown",
   "metadata": {},
   "source": [
    "#### 28 - Content App Stream"
   ]
  },
  {
   "cell_type": "code",
   "execution_count": 337,
   "metadata": {},
   "outputs": [],
   "source": [
    "content_app_stream_slabs = ['Yes', 'No']"
   ]
  },
  {
   "cell_type": "code",
   "execution_count": 338,
   "metadata": {},
   "outputs": [],
   "source": [
    "content_app_stream = get_random_data(content_app_stream_slabs)"
   ]
  },
  {
   "cell_type": "markdown",
   "metadata": {},
   "source": [
    "#### 29 - Content App Active User"
   ]
  },
  {
   "cell_type": "code",
   "execution_count": 339,
   "metadata": {},
   "outputs": [],
   "source": [
    "content_app_active_user_slabs = ['Yes', 'No']"
   ]
  },
  {
   "cell_type": "code",
   "execution_count": 340,
   "metadata": {},
   "outputs": [],
   "source": [
    "content_app_active_user = get_random_data(content_app_active_user_slabs)"
   ]
  },
  {
   "cell_type": "markdown",
   "metadata": {},
   "source": [
    "#### 30 - Content App (Movie/Live TV/Shows)"
   ]
  },
  {
   "cell_type": "code",
   "execution_count": 341,
   "metadata": {},
   "outputs": [],
   "source": [
    "content_app_categories = ['Movies', 'Live TV', 'Shows']"
   ]
  },
  {
   "cell_type": "code",
   "execution_count": 342,
   "metadata": {},
   "outputs": [],
   "source": [
    "content_app = get_random_data(content_app_categories)"
   ]
  },
  {
   "cell_type": "markdown",
   "metadata": {},
   "source": [
    "#### 31 - Content Genre"
   ]
  },
  {
   "cell_type": "code",
   "execution_count": 343,
   "metadata": {},
   "outputs": [],
   "source": [
    "content_genre_slabs = ['Action', 'Comedy', 'Romance', 'Drama', 'Thriller', 'Sci-fi', 'Horror', 'Fantasy']"
   ]
  },
  {
   "cell_type": "code",
   "execution_count": 344,
   "metadata": {},
   "outputs": [],
   "source": [
    "content_genre = get_random_data(content_genre_slabs)"
   ]
  },
  {
   "cell_type": "markdown",
   "metadata": {},
   "source": [
    "#### 32 - Content Language"
   ]
  },
  {
   "cell_type": "code",
   "execution_count": 345,
   "metadata": {},
   "outputs": [],
   "source": [
    "content_language_slabs = ['Hindi', 'English']"
   ]
  },
  {
   "cell_type": "code",
   "execution_count": 346,
   "metadata": {},
   "outputs": [],
   "source": [
    "content_language = get_random_data(content_language_slabs)"
   ]
  },
  {
   "cell_type": "markdown",
   "metadata": {},
   "source": [
    "#### 33 - Credit Limit"
   ]
  },
  {
   "cell_type": "code",
   "execution_count": 347,
   "metadata": {},
   "outputs": [],
   "source": [
    "credit_limit_slabs = ['500', '1000', '1500', '2000', '2500', '3000', '4000', '5000', '6000', '7000', '8000', '9000', '10000']"
   ]
  },
  {
   "cell_type": "code",
   "execution_count": 348,
   "metadata": {},
   "outputs": [],
   "source": [
    "credit_limit = get_random_data(credit_limit_slabs)"
   ]
  },
  {
   "cell_type": "markdown",
   "metadata": {},
   "source": [
    "#### 34 - Category DND Flag"
   ]
  },
  {
   "cell_type": "code",
   "execution_count": 349,
   "metadata": {},
   "outputs": [],
   "source": [
    "category_dnd_slabs = ['Yes', 'No']"
   ]
  },
  {
   "cell_type": "code",
   "execution_count": 350,
   "metadata": {},
   "outputs": [],
   "source": [
    "category_dnd = get_random_data(category_dnd_slabs)"
   ]
  },
  {
   "cell_type": "markdown",
   "metadata": {},
   "source": [
    "#### 35 - Brand Identifier"
   ]
  },
  {
   "cell_type": "code",
   "execution_count": 351,
   "metadata": {},
   "outputs": [],
   "source": [
    "brands = ['Vodafone', 'Idea']"
   ]
  },
  {
   "cell_type": "code",
   "execution_count": 352,
   "metadata": {},
   "outputs": [],
   "source": [
    "brand_identifier = get_random_data(brands)"
   ]
  },
  {
   "cell_type": "markdown",
   "metadata": {},
   "source": [
    "# Making a Dataframe"
   ]
  },
  {
   "cell_type": "code",
   "execution_count": 354,
   "metadata": {},
   "outputs": [],
   "source": [
    "practice_dict = {'Customer ID': customer_id, 'Circle Name': circle_names, 'Age':age, 'Gender': gender, 'Pincode': pincodes,\n",
    "                 'Age On Network': age_on_network, 'Connection Type (Prepaid/Postpaid)': connection_type,\n",
    "                 'Voice Usage (Slab)': voice_usage, 'Data Usage (Slab)': data_usage, 'Sms Usage (Slab)': sms_usage,\n",
    "                 'ARPU': arpu, 'ISD Usage': isd_usage, 'IR Usage': ir_usage, 'Amazon Prime User': amazon_prime,\n",
    "                 'Netflix User': netflix, 'Sender ID': sender_id, 'VAS Subscription': vas_subscription,\n",
    "                 'VIL App Web (Login/Registration)': vil_app_web, 'Active User (App / Web)': active_user, \n",
    "                 'Recharge Own Asset': recharge_own_asset, 'Recharge Aggregator (Value)': recharge_aggregator_value,\n",
    "                 'Recharge Aggregator (Volume)': recharge_aggregator_volume, 'Recharge Aggregator (Partner Category)': recharge_aggregator_partner_category,\n",
    "                 'Bill Payment Own Asset': bill_payment_own_asset, 'Bill Payment Aggregator (Value)': bill_payment_aggregator_value,\n",
    "                 'Bill Payment Aggregator (Volume)': bill_payment_aggregator_volume, 'Bill Payment Aggregator (Partner Name)': bill_payment_aggregator_partner_name,\n",
    "                 'Content App Stream': content_app_stream, 'Content App Active User': content_app_active_user,\n",
    "                 'Content App (Movie/Live TV/Shows)': content_app, 'Content Genre': content_genre, 'Content Language': content_language,\n",
    "                 'Credit Limit': credit_limit, 'Category DND Flag': category_dnd, 'Brand Identifier': brand_identifier}"
   ]
  },
  {
   "cell_type": "code",
   "execution_count": 355,
   "metadata": {},
   "outputs": [],
   "source": [
    "practice_df = pd.DataFrame.from_dict(practice_dict)"
   ]
  },
  {
   "cell_type": "code",
   "execution_count": 356,
   "metadata": {},
   "outputs": [
    {
     "data": {
      "text/html": [
       "<div>\n",
       "<style scoped>\n",
       "    .dataframe tbody tr th:only-of-type {\n",
       "        vertical-align: middle;\n",
       "    }\n",
       "\n",
       "    .dataframe tbody tr th {\n",
       "        vertical-align: top;\n",
       "    }\n",
       "\n",
       "    .dataframe thead th {\n",
       "        text-align: right;\n",
       "    }\n",
       "</style>\n",
       "<table border=\"1\" class=\"dataframe\">\n",
       "  <thead>\n",
       "    <tr style=\"text-align: right;\">\n",
       "      <th></th>\n",
       "      <th>Customer ID</th>\n",
       "      <th>Circle Name</th>\n",
       "      <th>Age</th>\n",
       "      <th>Gender</th>\n",
       "      <th>Pincode</th>\n",
       "      <th>Age On Network</th>\n",
       "      <th>Connection Type (Prepaid/Postpaid)</th>\n",
       "      <th>Voice Usage (Slab)</th>\n",
       "      <th>Data Usage (Slab)</th>\n",
       "      <th>Sms Usage (Slab)</th>\n",
       "      <th>...</th>\n",
       "      <th>Bill Payment Aggregator (Volume)</th>\n",
       "      <th>Bill Payment Aggregator (Partner Name)</th>\n",
       "      <th>Content App Stream</th>\n",
       "      <th>Content App Active User</th>\n",
       "      <th>Content App (Movie/Live TV/Shows)</th>\n",
       "      <th>Content Genre</th>\n",
       "      <th>Content Language</th>\n",
       "      <th>Credit Limit</th>\n",
       "      <th>Category DND Flag</th>\n",
       "      <th>Brand Identifier</th>\n",
       "    </tr>\n",
       "  </thead>\n",
       "  <tbody>\n",
       "    <tr>\n",
       "      <th>0</th>\n",
       "      <td>0</td>\n",
       "      <td>Barshi</td>\n",
       "      <td>60-65</td>\n",
       "      <td>M</td>\n",
       "      <td>413412</td>\n",
       "      <td>20-22 Months</td>\n",
       "      <td>Postpaid</td>\n",
       "      <td>250-300</td>\n",
       "      <td>1.5GB-2GB</td>\n",
       "      <td>501-750</td>\n",
       "      <td>...</td>\n",
       "      <td>0</td>\n",
       "      <td>Payment Banking</td>\n",
       "      <td>Yes</td>\n",
       "      <td>No</td>\n",
       "      <td>Movies</td>\n",
       "      <td>Romance</td>\n",
       "      <td>English</td>\n",
       "      <td>5000</td>\n",
       "      <td>No</td>\n",
       "      <td>Idea</td>\n",
       "    </tr>\n",
       "    <tr>\n",
       "      <th>1</th>\n",
       "      <td>1</td>\n",
       "      <td>NaN</td>\n",
       "      <td>25-30</td>\n",
       "      <td>F</td>\n",
       "      <td>177103</td>\n",
       "      <td>10-12 Months</td>\n",
       "      <td>Prepaid</td>\n",
       "      <td>1001-1500</td>\n",
       "      <td>1.5GB-2GB</td>\n",
       "      <td>1-50</td>\n",
       "      <td>...</td>\n",
       "      <td>1</td>\n",
       "      <td>Payment Banking</td>\n",
       "      <td>No</td>\n",
       "      <td>Yes</td>\n",
       "      <td>Live TV</td>\n",
       "      <td>Horror</td>\n",
       "      <td>Hindi</td>\n",
       "      <td>500</td>\n",
       "      <td>No</td>\n",
       "      <td>Idea</td>\n",
       "    </tr>\n",
       "    <tr>\n",
       "      <th>2</th>\n",
       "      <td>2</td>\n",
       "      <td>Gangtok</td>\n",
       "      <td>40-45</td>\n",
       "      <td>F</td>\n",
       "      <td>737103</td>\n",
       "      <td>22-24 Months</td>\n",
       "      <td>Prepaid</td>\n",
       "      <td>1001-1500</td>\n",
       "      <td>0.5GB-1GB</td>\n",
       "      <td>250-300</td>\n",
       "      <td>...</td>\n",
       "      <td>2</td>\n",
       "      <td>Payment Banking</td>\n",
       "      <td>Yes</td>\n",
       "      <td>Yes</td>\n",
       "      <td>Movies</td>\n",
       "      <td>Action</td>\n",
       "      <td>English</td>\n",
       "      <td>8000</td>\n",
       "      <td>Yes</td>\n",
       "      <td>Idea</td>\n",
       "    </tr>\n",
       "    <tr>\n",
       "      <th>3</th>\n",
       "      <td>3</td>\n",
       "      <td>Jabalpur</td>\n",
       "      <td>65-70</td>\n",
       "      <td>F</td>\n",
       "      <td>482051</td>\n",
       "      <td>20-22 Months</td>\n",
       "      <td>Prepaid</td>\n",
       "      <td>1501-2000</td>\n",
       "      <td>&gt;15GB</td>\n",
       "      <td>51-100</td>\n",
       "      <td>...</td>\n",
       "      <td>4</td>\n",
       "      <td>Payment Banking</td>\n",
       "      <td>Yes</td>\n",
       "      <td>No</td>\n",
       "      <td>Live TV</td>\n",
       "      <td>Horror</td>\n",
       "      <td>Hindi</td>\n",
       "      <td>500</td>\n",
       "      <td>No</td>\n",
       "      <td>Vodafone</td>\n",
       "    </tr>\n",
       "    <tr>\n",
       "      <th>4</th>\n",
       "      <td>4</td>\n",
       "      <td>Vellore</td>\n",
       "      <td>20-25</td>\n",
       "      <td>F</td>\n",
       "      <td>632001</td>\n",
       "      <td>10-12 Months</td>\n",
       "      <td>Prepaid</td>\n",
       "      <td>501-750</td>\n",
       "      <td>1.5GB-2GB</td>\n",
       "      <td>751-1000</td>\n",
       "      <td>...</td>\n",
       "      <td>4</td>\n",
       "      <td>Payment Banking</td>\n",
       "      <td>No</td>\n",
       "      <td>Yes</td>\n",
       "      <td>Movies</td>\n",
       "      <td>Horror</td>\n",
       "      <td>English</td>\n",
       "      <td>3000</td>\n",
       "      <td>Yes</td>\n",
       "      <td>Vodafone</td>\n",
       "    </tr>\n",
       "  </tbody>\n",
       "</table>\n",
       "<p>5 rows × 35 columns</p>\n",
       "</div>"
      ],
      "text/plain": [
       "   Customer ID Circle Name    Age Gender  Pincode Age On Network  \\\n",
       "0            0      Barshi  60-65      M   413412   20-22 Months   \n",
       "1            1         NaN  25-30      F   177103   10-12 Months   \n",
       "2            2     Gangtok  40-45      F   737103   22-24 Months   \n",
       "3            3    Jabalpur  65-70      F   482051   20-22 Months   \n",
       "4            4     Vellore  20-25      F   632001   10-12 Months   \n",
       "\n",
       "  Connection Type (Prepaid/Postpaid) Voice Usage (Slab) Data Usage (Slab)  \\\n",
       "0                           Postpaid            250-300         1.5GB-2GB   \n",
       "1                            Prepaid          1001-1500         1.5GB-2GB   \n",
       "2                            Prepaid          1001-1500         0.5GB-1GB   \n",
       "3                            Prepaid          1501-2000             >15GB   \n",
       "4                            Prepaid            501-750         1.5GB-2GB   \n",
       "\n",
       "  Sms Usage (Slab)  ... Bill Payment Aggregator (Volume)  \\\n",
       "0          501-750  ...                                0   \n",
       "1             1-50  ...                                1   \n",
       "2          250-300  ...                                2   \n",
       "3           51-100  ...                                4   \n",
       "4         751-1000  ...                                4   \n",
       "\n",
       "  Bill Payment Aggregator (Partner Name) Content App Stream  \\\n",
       "0                        Payment Banking                Yes   \n",
       "1                        Payment Banking                 No   \n",
       "2                        Payment Banking                Yes   \n",
       "3                        Payment Banking                Yes   \n",
       "4                        Payment Banking                 No   \n",
       "\n",
       "  Content App Active User Content App (Movie/Live TV/Shows) Content Genre  \\\n",
       "0                      No                            Movies       Romance   \n",
       "1                     Yes                           Live TV        Horror   \n",
       "2                     Yes                            Movies        Action   \n",
       "3                      No                           Live TV        Horror   \n",
       "4                     Yes                            Movies        Horror   \n",
       "\n",
       "  Content Language Credit Limit Category DND Flag Brand Identifier  \n",
       "0          English         5000                No             Idea  \n",
       "1            Hindi          500                No             Idea  \n",
       "2          English         8000               Yes             Idea  \n",
       "3            Hindi          500                No         Vodafone  \n",
       "4          English         3000               Yes         Vodafone  \n",
       "\n",
       "[5 rows x 35 columns]"
      ]
     },
     "execution_count": 356,
     "metadata": {},
     "output_type": "execute_result"
    }
   ],
   "source": [
    "practice_df.head()"
   ]
  },
  {
   "cell_type": "markdown",
   "metadata": {},
   "source": [
    "## Saving to a csv file"
   ]
  },
  {
   "cell_type": "code",
   "execution_count": 357,
   "metadata": {},
   "outputs": [],
   "source": [
    "practice_df.to_csv('./data/practice.csv')"
   ]
  },
  {
   "cell_type": "code",
   "execution_count": null,
   "metadata": {},
   "outputs": [],
   "source": []
  }
 ],
 "metadata": {
  "kernelspec": {
   "display_name": "customdash",
   "language": "python",
   "name": "customdash"
  },
  "language_info": {
   "codemirror_mode": {
    "name": "ipython",
    "version": 3
   },
   "file_extension": ".py",
   "mimetype": "text/x-python",
   "name": "python",
   "nbconvert_exporter": "python",
   "pygments_lexer": "ipython3",
   "version": "3.7.4"
  }
 },
 "nbformat": 4,
 "nbformat_minor": 2
}
